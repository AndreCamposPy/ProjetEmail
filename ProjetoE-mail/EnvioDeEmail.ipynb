{
 "cells": [
  {
   "cell_type": "markdown",
   "id": "054c6f8a",
   "metadata": {},
   "source": [
    "# Mãos ao código!\n",
    "### Vamos começar no ambiente do anaconda, onde vou inicialmente incorporar os módulos utilizados."
   ]
  },
  {
   "cell_type": "code",
   "execution_count": 1,
   "id": "d2362981",
   "metadata": {},
   "outputs": [],
   "source": [
    "# Importa os módulos necessários para enviar e-mails\n",
    "import smtplib                                      # Módulo para comunicação com o servidor de e-mail\n",
    "import ssl                                          # Módulo para criar um contexto seguro de conexão\n",
    "from email.message import EmailMessage              # Classe para criar mensagens de e-mail\n",
    "import os                                           # Módulo para interagir com o sistema de arquivos\n",
    "import mimetypes                                    # Módulo para determinar o tipo MIME dos anexos\n"
   ]
  },
  {
   "cell_type": "markdown",
   "id": "ebcd1d21",
   "metadata": {},
   "source": [
    "## Inserimos emails e senha\n",
    "### Evite salvar senhas no corpo do código, assim, ao compartilhá-lo outras pessoas não terão acesso às suas senhas.\n",
    "### Então, salvarei minha senha de email num arquivo .txt e usarei a função Open para gravar o conteúdo desse arquivo na varável \"email_senha\"."
   ]
  },
  {
   "cell_type": "code",
   "execution_count": 2,
   "id": "3fccb9e2",
   "metadata": {},
   "outputs": [],
   "source": [
    "# Carrega a senha do e-mail a partir de um arquivo separado\n",
    "email_senha = open(r'C:\\Users\\Pichau\\Desktop\\ProjetoE-mail\\keys\\senha', 'r').read()\n",
    "\n",
    "# Endereço de e-mail de origem e destino\n",
    "email_origem = 'camposandre73679@gmail.com'  # Insira seu endereço de e-mail\n",
    "email_destino = ('menezes.campos@yahoo.com')  # Insira o e-mail do destinatário\n"
   ]
  },
  {
   "cell_type": "markdown",
   "id": "4739c45a",
   "metadata": {},
   "source": [
    "## Inserimos Assunto e Corpo do email\n",
    "### Supondo que enviaremos um relatório atualizado sobre os mesmos indicadores, vou deixar o Assunto do email estático descrito no próprio código.\n",
    "### Porém, pode ser que seja interessante mudar a mensagem do email com uma certa frequência, por isso vou deixá-la num arquivo externo onde poderei alterá-la futuramente sem a necessidade de editar o código em si."
   ]
  },
  {
   "cell_type": "code",
   "execution_count": 3,
   "id": "81ddfa77",
   "metadata": {},
   "outputs": [],
   "source": [
    "# Assunto e corpo do e-mail\n",
    "assunto = 'Funil de Produção Poc 08-2023'\n",
    "# Lê o corpo do e-mail a partir de um arquivo\n",
    "body = open(r'C:\\Users\\Pichau\\Desktop\\ProjetoE-mail\\corpo_email.txt', 'r').read() "
   ]
  },
  {
   "cell_type": "markdown",
   "id": "ceaf05be",
   "metadata": {},
   "source": [
    "### Definição de configurações internas para envio do email."
   ]
  },
  {
   "cell_type": "code",
   "execution_count": 4,
   "id": "b9d61160",
   "metadata": {},
   "outputs": [],
   "source": [
    "# Cria uma instância da classe EmailMessage para construir a mensagem de e-mail\n",
    "mensagem = EmailMessage()\n",
    "\n",
    "# Define quem está enviando o e-mail (endereço de e-mail de origem)\n",
    "mensagem['From'] = email_origem\n",
    "\n",
    "# Define o destinatário do e-mail (endereço de e-mail do destinatário)\n",
    "mensagem['To'] = email_destino\n",
    "\n",
    "# Define o assunto do e-mail\n",
    "mensagem['Subject'] = assunto\n",
    "\n",
    "# Define o conteúdo principal do e-mail (texto do corpo)\n",
    "mensagem.set_content(body)"
   ]
  },
  {
   "cell_type": "markdown",
   "id": "070e2548",
   "metadata": {},
   "source": [
    "## Inserimos o caminho do(s) anexo(s)\n",
    "### Usarei 2 anexos como exemplo: uma planilha excel e um gráfico.\n",
    "### Crierei uma lista com os caminhos onde estão cada um dos anexos para envio.\n",
    "### Você pode acrescentar à lista mais outros caminhos para enviar quantos anexos desejar."
   ]
  },
  {
   "cell_type": "code",
   "execution_count": 5,
   "id": "cd0a108c",
   "metadata": {},
   "outputs": [],
   "source": [
    "# Lista de caminhos dos arquivos a serem anexados\n",
    "anexos = [r\"C:\\Users\\Pichau\\Desktop\\ProjetoE-mail\\imagem.jpg\",\n",
    "          r\"C:\\Users\\Pichau\\Desktop\\ProjetoE-mail\\base de dados.xlsx\"]\n",
    "\n",
    "# Adiciona cada anexo à mensagem\n",
    "for anexo_path in anexos:\n",
    "    mime_type, _ = mimetypes.guess_type(anexo_path)\n",
    "    mime_type, mime_subtype = mime_type.split('/', 1)\n",
    "    \n",
    "    # Lê e anexa os arquivos ao e-mail\n",
    "    with open(anexo_path, 'rb') as ap:\n",
    "        mensagem.add_attachment(ap.read(), maintype=mime_type, subtype=mime_subtype,\n",
    "                                filename=os.path.basename(anexo_path))"
   ]
  },
  {
   "cell_type": "markdown",
   "id": "a2936058",
   "metadata": {},
   "source": [
    "# Etapa de envio do email\n",
    "#### Se o envio for concluído com sucesso, será exibida a mensagem \"Email enviado com sucesso!!!\"\n",
    "#### Se houver erro de autenticação (e-mail/senha incorretos) será exibida a mensagem \"Email e/ou senha incorreto!\"\n",
    "#### Caso ocorra algum outro erro será exibida a mensagem \"Erro imprevisto\""
   ]
  },
  {
   "cell_type": "code",
   "execution_count": 6,
   "id": "92946040",
   "metadata": {},
   "outputs": [
    {
     "name": "stdout",
     "output_type": "stream",
     "text": [
      "Email enviado com sucesso!!!\n"
     ]
    }
   ],
   "source": [
    "# O bloco 'try' é usado para envolver um código onde podem ocorrer exceções (erros).\n",
    "try:\n",
    "   \n",
    "    # O código dentro deste bloco é executado normalmente até que uma exceção (ou erro) seja lançada.\n",
    "    # Cria um contexto seguro para conexão SSL criptografando o conteúdo do email\n",
    "    safe = ssl.create_default_context()\n",
    "\n",
    "    # Conecta-se ao servidor SMTP seguro do Gmail\n",
    "    with smtplib.SMTP_SSL('smtp.gmail.com', 465, context=safe) as smtp:\n",
    "        # Realiza o login no e-mail de origem\n",
    "        smtp.login(email_origem, email_senha)\n",
    "        # Envia o e-mail\n",
    "        smtp.sendmail(email_origem, email_destino, mensagem.as_string())\n",
    "    print('Email enviado com sucesso!!!')\n",
    "\n",
    "except smtplib.SMTPAuthenticationError:\n",
    "    # Se ocorrer um erro de autenticação (e-mail/senha incorretos)\n",
    "    print('Email e/ou senha incorreto!')\n",
    "\n",
    "except Exception as erro:\n",
    "    # Se ocorrer qualquer outro erro\n",
    "    print('Erro imprevisto')\n",
    "    # Imprime o tipo de erro que ocorreu\n",
    "    print(f'O tipo do erro encontrado foi {erro.__class__}')\n",
    "    # Imprime a descrição detalhada do erro\n",
    "    print(f'O texto do erro encontrado foi {erro.__str__()}')\n"
   ]
  },
  {
   "cell_type": "markdown",
   "id": "c846ad56",
   "metadata": {},
   "source": [
    "# Fim."
   ]
  }
 ],
 "metadata": {
  "kernelspec": {
   "display_name": "Python 3 (ipykernel)",
   "language": "python",
   "name": "python3"
  },
  "language_info": {
   "codemirror_mode": {
    "name": "ipython",
    "version": 3
   },
   "file_extension": ".py",
   "mimetype": "text/x-python",
   "name": "python",
   "nbconvert_exporter": "python",
   "pygments_lexer": "ipython3",
   "version": "3.10.12"
  }
 },
 "nbformat": 4,
 "nbformat_minor": 5
}
